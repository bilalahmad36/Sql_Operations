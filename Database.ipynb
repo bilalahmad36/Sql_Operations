{
 "cells": [
  {
   "cell_type": "code",
   "execution_count": null,
   "id": "625c15be",
   "metadata": {},
   "outputs": [],
   "source": [
    "import sqlite3\n",
    "\n",
    "con = sqlite3.connect(\"Tutorial.db\")\n",
    "curser = con.cursor()\n"
   ]
  },
  {
   "cell_type": "code",
   "execution_count": null,
   "id": "22a9dff7",
   "metadata": {},
   "outputs": [],
   "source": [
    "curser.execute(\"\"\"    \n",
    "    CREATE TABLE Movie(\n",
    "        tittle TEXT,\n",
    "        year TEXT,\n",
    "        score INTEGER         )\n",
    "\"\"\"\n",
    ")\n",
    "\n",
    "curser.execute(\"\"\"\n",
    "        CREATE TABLE actors(\n",
    "            Actor_id INTEGER PRIMARY KEY,\n",
    "            Name TEXT,\n",
    "            Nationality TEXT\n",
    "                              )\n",
    "\"\"\")\n",
    "\n",
    "curser.execute(\"\"\"\n",
    "    CREATE TABLE Gene(\n",
    "               Gene_id INTEGER,\n",
    "               Gene_Name TEXT\n",
    "               )\n",
    "\"\"\")\n",
    "\n",
    "curser.execute(\"\"\"\n",
    "    CREATE TABLE Theater(\n",
    "               Theater_id INTEGER,\n",
    "               Name TEXT,\n",
    "               City TEXT,\n",
    "               Zip_COde INTEGER)           \n",
    "               \"\"\")\n",
    "\n",
    "\n",
    "curser.execute(\"\"\"\n",
    "    CREATE TABLE actors (\n",
    "    actorid INTEGER PRIMARY KEY AUTOINCREMENT,\n",
    "    name TEXT NOT NULL,\n",
    "    nationality TEXT\n",
    "               )\"\"\"\n",
    ")"
   ]
  },
  {
   "cell_type": "code",
   "execution_count": null,
   "id": "35bfc8f6",
   "metadata": {},
   "outputs": [],
   "source": [
    "curser.execute(\"\"\"\n",
    "    INSERT INTO movie VALUES\n",
    "('Inception', '2010', 8.8),\n",
    "('The Dark Knight', '2008', 9.0),\n",
    "('Interstellar', '2014', 8.6),\n",
    "('Avatar', '2009', 7.8),\n",
    "('Avengers: Endgame', '2019', 8.4),\n",
    "('Joker', '2019', 8.5),\n",
    "('The Matrix', '1999', 8.7),\n",
    "('Titanic', '1997', 7.9),\n",
    "('Dune: Part Two', '2024', 8.3),\n",
    "('Oppenheimer', '2023', 8.6)\n",
    "\"\"\")\n",
    "\n",
    "con.commit()"
   ]
  },
  {
   "cell_type": "code",
   "execution_count": null,
   "id": "58129134",
   "metadata": {},
   "outputs": [],
   "source": [
    "curser.execute(\"\"\"\n",
    "    INSERT INTO movie VALUES\n",
    "('Inception', '2010', 8.8),\n",
    "('The Dark Knight', '2008', 9.0),\n",
    "('Interstellar', '2014', 8.6),\n",
    "('Avatar', '2009', 7.8),\n",
    "('Avengers: Endgame', '2019', 8.4),\n",
    "('Joker', '2019', 8.5),\n",
    "('The Matrix', '1999', 8.7),\n",
    "('Titanic', '1997', 7.9),\n",
    "('Dune: Part Two', '2024', 8.3),\n",
    "('Oppenheimer', '2023', 8.6)\n",
    "\"\"\")\n",
    "\n",
    "\n",
    "curser.execute(\"\"\"\n",
    "    INSERT INTO actors (name, nationality) VALUES\n",
    "( 'Leonardo DiCaprio', 'American'),\n",
    "( 'Christian Bale', 'British'),\n",
    "( 'Robert Downey Jr.', 'American'),\n",
    "( 'Scarlett Johansson', 'American'),\n",
    "( 'Tom Hardy', 'British'),\n",
    "( 'Natalie Portman', 'Israeli-American'),\n",
    "( 'Cillian Murphy', 'Irish'),\n",
    "( 'Brad Pitt', 'American'),\n",
    "( 'Angelina Jolie', 'American'),\n",
    "( 'Keanu Reeves', 'Canadian')\n",
    "\n",
    "\"\"\")\n",
    "\n",
    "curser.execute(\"\"\"\n",
    "INSERT INTO Gene VALUES\n",
    "(1, 'Comedy'),\n",
    "(2, 'Action'),\n",
    "(3, 'Thriller'),\n",
    "(4, 'Adventure'),\n",
    "(5, 'Suspense'),\n",
    "(6, 'Romance'),\n",
    "(7, 'Horror'),\n",
    "(8, 'Science Fiction'),\n",
    "(9, 'Fantasy'),\n",
    "(10, 'Drama')\n",
    "               \n",
    "\"\"\")\n",
    "\n",
    "curser.execute(\"\"\"\n",
    "INSERT INTO Theater VALUES\n",
    "(1, 'Grand Cinema', 'New York', 10001),\n",
    "(2, 'Sunset Theater', 'Los Angeles', 90001),\n",
    "(3, 'Metroplex Cinema', 'Chicago', 60601),\n",
    "(4, 'Galaxy Theater', 'Houston', 77001),\n",
    "(5, 'Royal Screens', 'Miami', 33101),\n",
    "(6, 'CineStar', 'San Francisco', 94101),\n",
    "(7, 'Majestic Cinema', 'Boston', 02108),\n",
    "(8, 'Starplex', 'Dallas', 75201),\n",
    "(9, 'Silver Screen', 'Seattle', 98101),\n",
    "(10, 'CineWorld', 'Denver', 80201)\n",
    "              \n",
    "\"\"\")"
   ]
  },
  {
   "cell_type": "code",
   "execution_count": null,
   "id": "bc826baa",
   "metadata": {},
   "outputs": [],
   "source": [
    "con.commit()"
   ]
  },
  {
   "cell_type": "code",
   "execution_count": null,
   "id": "174169e9",
   "metadata": {},
   "outputs": [],
   "source": [
    "res = curser.execute(\"Select * FROM Movie\")\n",
    "res.fetchall()"
   ]
  },
  {
   "cell_type": "markdown",
   "id": "ddd366d4",
   "metadata": {},
   "source": [
    "OTHER WAY TO ADD DATA INTO TABLE\n"
   ]
  },
  {
   "cell_type": "code",
   "execution_count": null,
   "id": "212c3185",
   "metadata": {},
   "outputs": [],
   "source": [
    "data = [\n",
    "    (\"Ballerina\", \"2024\", 9.2),\n",
    "    (\"john wick\", \"2021\", 8 ),\n",
    "    (\"F1\", \"2023\", 10),\n",
    "]\n",
    "\n",
    "curser.executemany(\"INSERT INTO Movie VALUES(?,?,?)\", data)\n",
    "con.commit()"
   ]
  },
  {
   "cell_type": "code",
   "execution_count": null,
   "id": "3bfd30bb",
   "metadata": {},
   "outputs": [],
   "source": [
    "res1 = curser.execute(\"Select * FROM actors\")\n",
    "res1.fetchall()\n"
   ]
  },
  {
   "cell_type": "code",
   "execution_count": null,
   "id": "e466c370",
   "metadata": {},
   "outputs": [],
   "source": [
    "res = curser.execute(\"Select Name FROM Theater WHERE City = 'Houston'\")\n",
    "res.fetchall()"
   ]
  },
  {
   "cell_type": "code",
   "execution_count": null,
   "id": "3974eaba",
   "metadata": {},
   "outputs": [],
   "source": [
    "curser.execute(\"UPDATE Theater SET Name = 'Gold Star' WHERE Theater_id = 6\")\n",
    "con.commit()"
   ]
  },
  {
   "cell_type": "code",
   "execution_count": null,
   "id": "5f896fba",
   "metadata": {},
   "outputs": [],
   "source": [
    "curser.execute(\"DELETE FROM Gene WHERE Gene_id = 10\")\n",
    "con.commit()"
   ]
  },
  {
   "cell_type": "code",
   "execution_count": null,
   "id": "c833540f",
   "metadata": {},
   "outputs": [],
   "source": [
    "curser.execute(\"ALTER TABLE Movie ADD COLUMN Description TEXT\")\n",
    "con.commit()"
   ]
  },
  {
   "cell_type": "code",
   "execution_count": null,
   "id": "c70a7eac",
   "metadata": {},
   "outputs": [],
   "source": [
    "data = [\n",
    "    (\"Elite fighter pilot returns for a daring mission\", \"TopGun\"),\n",
    "    (\"A young ballerina uncovers a dark conspiracy\", \"Ballerina\"),\n",
    "    (\"Ex-hitman seeks vengeance for personal loss\", \"john wick\"),\n",
    "    (\"Fast cars and fierce street racing battles\", \"F1\"),\n",
    "    (\"A thief enters dreams to steal secrets\", \"Inception\"),\n",
    "    (\"A vigilante rises to save Gotham City\", \"The Dark Knight\"),\n",
    "    (\"Astronauts explore a wormhole for survival\", \"Interstellar\"),\n",
    "    (\"Humans explore an alien world on Pandora\", \"Avatar\"),\n",
    "    (\"Heroes unite to defeat Thanos\", \"Avengers: Endgame\"),\n",
    "    (\"A troubled man transforms into Joker\", \"Joker\"),\n",
    "    (\"Hackers discover a hidden virtual reality\", \"The Matrix\"),\n",
    "    (\"A tragic love story aboard the Titanic\", \"Titanic\"),\n",
    "    (\"Epic war for control of Arrakis\", \"Dune: Part Two\"),\n",
    "    (\"The story of J. Robert Oppenheimer\", \"Oppenheimer\"),\n",
    "]\n",
    "\n",
    "curser.executemany(\"UPDATE Movie SET Description = ? WHERE tittle = ?\", data)\n",
    "con.commit()"
   ]
  },
  {
   "cell_type": "code",
   "execution_count": 46,
   "id": "dc6e144b",
   "metadata": {},
   "outputs": [],
   "source": [
    "curser.execute(\"DELETE FROM Movie WHERE year = 2024\")\n",
    "con.commit()"
   ]
  }
 ],
 "metadata": {
  "kernelspec": {
   "display_name": "Python 3",
   "language": "python",
   "name": "python3"
  },
  "language_info": {
   "codemirror_mode": {
    "name": "ipython",
    "version": 3
   },
   "file_extension": ".py",
   "mimetype": "text/x-python",
   "name": "python",
   "nbconvert_exporter": "python",
   "pygments_lexer": "ipython3",
   "version": "3.12.3"
  }
 },
 "nbformat": 4,
 "nbformat_minor": 5
}
